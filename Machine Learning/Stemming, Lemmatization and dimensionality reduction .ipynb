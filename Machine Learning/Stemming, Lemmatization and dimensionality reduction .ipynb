{
 "cells": [
  {
   "cell_type": "code",
   "execution_count": 41,
   "id": "8e7bae4a",
   "metadata": {},
   "outputs": [],
   "source": [
    "import nltk\n",
    "from nltk.tokenize import word_tokenize\n",
    "from nltk.help import upenn_tagset\n",
    "import spacy\n",
    "import numpy as np\n",
    "import seaborn as sns\n",
    "import matplotlib.pyplot as plt\n",
    "from sklearn.feature_extraction.text import CountVectorizer"
   ]
  },
  {
   "cell_type": "markdown",
   "id": "97c31ae4",
   "metadata": {},
   "source": [
    "###### Getting the data  "
   ]
  },
  {
   "cell_type": "code",
   "execution_count": 7,
   "id": "902d8bfb",
   "metadata": {},
   "outputs": [],
   "source": [
    "from sklearn.datasets import fetch_20newsgroups"
   ]
  },
  {
   "cell_type": "code",
   "execution_count": 8,
   "id": "37a44db9",
   "metadata": {},
   "outputs": [],
   "source": [
    "groups = fetch_20newsgroups()"
   ]
  },
  {
   "cell_type": "code",
   "execution_count": 9,
   "id": "1921db19",
   "metadata": {},
   "outputs": [
    {
     "data": {
      "text/plain": [
       "dict_keys(['data', 'filenames', 'target_names', 'target', 'DESCR'])"
      ]
     },
     "execution_count": 9,
     "metadata": {},
     "output_type": "execute_result"
    }
   ],
   "source": [
    "groups.keys()"
   ]
  },
  {
   "cell_type": "code",
   "execution_count": 6,
   "id": "0d81b6bd",
   "metadata": {},
   "outputs": [
    {
     "data": {
      "text/plain": [
       "['alt.atheism',\n",
       " 'comp.graphics',\n",
       " 'comp.os.ms-windows.misc',\n",
       " 'comp.sys.ibm.pc.hardware',\n",
       " 'comp.sys.mac.hardware',\n",
       " 'comp.windows.x',\n",
       " 'misc.forsale',\n",
       " 'rec.autos',\n",
       " 'rec.motorcycles',\n",
       " 'rec.sport.baseball',\n",
       " 'rec.sport.hockey',\n",
       " 'sci.crypt',\n",
       " 'sci.electronics',\n",
       " 'sci.med',\n",
       " 'sci.space',\n",
       " 'soc.religion.christian',\n",
       " 'talk.politics.guns',\n",
       " 'talk.politics.mideast',\n",
       " 'talk.politics.misc',\n",
       " 'talk.religion.misc']"
      ]
     },
     "execution_count": 6,
     "metadata": {},
     "output_type": "execute_result"
    }
   ],
   "source": [
    "groups['target_names']"
   ]
  },
  {
   "cell_type": "code",
   "execution_count": 7,
   "id": "058ae58a",
   "metadata": {},
   "outputs": [
    {
     "data": {
      "text/plain": [
       "array([7, 4, 4, ..., 3, 1, 8])"
      ]
     },
     "execution_count": 7,
     "metadata": {},
     "output_type": "execute_result"
    }
   ],
   "source": [
    "groups.target"
   ]
  },
  {
   "cell_type": "code",
   "execution_count": 9,
   "id": "dc8acdd3",
   "metadata": {},
   "outputs": [
    {
     "data": {
      "text/plain": [
       "array([ 0,  1,  2,  3,  4,  5,  6,  7,  8,  9, 10, 11, 12, 13, 14, 15, 16,\n",
       "       17, 18, 19])"
      ]
     },
     "execution_count": 9,
     "metadata": {},
     "output_type": "execute_result"
    }
   ],
   "source": [
    "np.unique(groups.target)"
   ]
  },
  {
   "cell_type": "code",
   "execution_count": 11,
   "id": "c3492376",
   "metadata": {},
   "outputs": [
    {
     "name": "stderr",
     "output_type": "stream",
     "text": [
      "C:\\Users\\asus\\anaconda3\\lib\\site-packages\\seaborn\\distributions.py:2557: FutureWarning: `distplot` is a deprecated function and will be removed in a future version. Please adapt your code to use either `displot` (a figure-level function with similar flexibility) or `histplot` (an axes-level function for histograms).\n",
      "  warnings.warn(msg, FutureWarning)\n"
     ]
    },
    {
     "data": {
      "text/plain": [
       "<AxesSubplot:ylabel='Density'>"
      ]
     },
     "execution_count": 11,
     "metadata": {},
     "output_type": "execute_result"
    },
    {
     "data": {
      "image/png": "[encoded data removed]",
      "text/plain": [
       "<Figure size 432x288 with 1 Axes>"
      ]
     },
     "metadata": {
      "needs_background": "light"
     },
     "output_type": "display_data"
    }
   ],
   "source": [
    "sns.distplot(groups.target)"
   ]
  },
  {
   "cell_type": "code",
   "execution_count": 12,
   "id": "89651a83",
   "metadata": {},
   "outputs": [
    {
     "data": {
      "text/plain": [
       "\"From: lerxst@wam.umd.edu (where's my thing)\\nSubject: WHAT car is this!?\\nNntp-Posting-Host: rac3.wam.umd.edu\\nOrganization: University of Maryland, College Park\\nLines: 15\\n\\n I was wondering if anyone out there could enlighten me on this car I saw\\nthe other day. It was a 2-door sports car, looked to be from the late 60s/\\nearly 70s. It was called a Bricklin. The doors were really small. In addition,\\nthe front bumper was separate from the rest of the body. This is \\nall I know. If anyone can tellme a model name, engine specs, years\\nof production, where this car is made, history, or whatever info you\\nhave on this funky looking car, please e-mail.\\n\\nThanks,\\n- IL\\n   ---- brought to you by your neighborhood Lerxst ----\\n\\n\\n\\n\\n\""
      ]
     },
     "execution_count": 12,
     "metadata": {},
     "output_type": "execute_result"
    }
   ],
   "source": [
    "groups.data[0]"
   ]
  },
  {
   "cell_type": "code",
   "execution_count": 13,
   "id": "ac0850d6",
   "metadata": {},
   "outputs": [
    {
     "data": {
      "text/plain": [
       "7"
      ]
     },
     "execution_count": 13,
     "metadata": {},
     "output_type": "execute_result"
    }
   ],
   "source": [
    "groups.target[0]"
   ]
  },
  {
   "cell_type": "code",
   "execution_count": 14,
   "id": "5a7de73d",
   "metadata": {},
   "outputs": [
    {
     "data": {
      "text/plain": [
       "'rec.autos'"
      ]
     },
     "execution_count": 14,
     "metadata": {},
     "output_type": "execute_result"
    }
   ],
   "source": [
    "groups.target_names[groups.target[0]]"
   ]
  },
  {
   "cell_type": "code",
   "execution_count": 10,
   "id": "b9955835",
   "metadata": {},
   "outputs": [],
   "source": [
    "count_vector = CountVectorizer(max_features = 500)"
   ]
  },
  {
   "cell_type": "code",
   "execution_count": 11,
   "id": "c9c2b106",
   "metadata": {},
   "outputs": [],
   "source": [
    "data_count = count_vector.fit_transform(groups.data)"
   ]
  },
  {
   "cell_type": "code",
   "execution_count": 26,
   "id": "c9cd6dbe",
   "metadata": {},
   "outputs": [
    {
     "data": {
      "text/plain": [
       "<11314x500 sparse matrix of type '<class 'numpy.int64'>'\n",
       "\twith 798221 stored elements in Compressed Sparse Row format>"
      ]
     },
     "execution_count": 26,
     "metadata": {},
     "output_type": "execute_result"
    }
   ],
   "source": [
    "data_count"
   ]
  },
  {
   "cell_type": "code",
   "execution_count": 27,
   "id": "1ccdb7c8",
   "metadata": {},
   "outputs": [
    {
     "data": {
      "text/plain": [
       "array([0, 0, 0, 0, 0, 0, 0, 0, 0, 1, 0, 0, 0, 0, 0, 0, 0, 0, 0, 0, 0, 0,\n",
       "       0, 0, 0, 0, 0, 0, 0, 0, 0, 0, 0, 0, 0, 0, 0, 0, 0, 0, 0, 1, 0, 0,\n",
       "       0, 0, 0, 0, 0, 0, 0, 0, 0, 2, 0, 0, 0, 0, 0, 0, 0, 0, 0, 0, 0, 0,\n",
       "       0, 0, 0, 0, 0, 0, 0, 1, 0, 0, 0, 0, 0, 0, 0, 0, 0, 0, 0, 0, 0, 0,\n",
       "       0, 0, 1, 0, 0, 1, 0, 1, 0, 0, 5, 0, 0, 0, 0, 0, 0, 0, 0, 0, 0, 0,\n",
       "       0, 0, 0, 0, 0, 1, 0, 0, 0, 0, 0, 1, 0, 0, 0, 0, 0, 0, 0, 0, 0, 0,\n",
       "       0, 0, 0, 0, 0, 0, 0, 0, 0, 2, 0, 0, 0, 0, 0, 0, 0, 0, 0, 0, 0, 0,\n",
       "       0, 0, 0, 0, 0, 0, 0, 0, 0, 0, 0, 0, 0, 3, 0, 0, 0, 0, 0, 0, 0, 0,\n",
       "       0, 0, 0, 0, 0, 0, 0, 0, 0, 0, 0, 0, 0, 0, 0, 0, 0, 1, 0, 0, 0, 0,\n",
       "       0, 0, 0, 0, 0, 0, 0, 1, 0, 0, 0, 0, 0, 0, 2, 0, 0, 1, 0, 1, 0, 0,\n",
       "       0, 0, 0, 3, 0, 0, 0, 2, 0, 0, 0, 0, 0, 0, 0, 0, 0, 0, 1, 0, 0, 0,\n",
       "       0, 0, 0, 0, 0, 0, 0, 1, 0, 0, 0, 0, 0, 0, 0, 1, 0, 0, 1, 1, 0, 0,\n",
       "       0, 0, 0, 0, 0, 0, 1, 0, 0, 0, 0, 0, 0, 0, 0, 0, 0, 0, 0, 0, 0, 1,\n",
       "       1, 0, 0, 0, 0, 0, 0, 0, 0, 0, 1, 0, 0, 0, 0, 0, 0, 0, 3, 0, 0, 2,\n",
       "       0, 0, 0, 0, 0, 1, 0, 0, 1, 1, 0, 0, 1, 0, 0, 0, 0, 0, 0, 0, 0, 0,\n",
       "       0, 0, 0, 1, 0, 0, 0, 1, 0, 0, 0, 0, 0, 0, 0, 0, 0, 0, 0, 0, 0, 0,\n",
       "       0, 0, 0, 1, 0, 0, 0, 0, 0, 0, 0, 0, 0, 0, 0, 0, 0, 0, 0, 0, 0, 0,\n",
       "       0, 0, 0, 0, 0, 0, 0, 0, 0, 0, 0, 0, 0, 1, 0, 0, 0, 0, 0, 0, 0, 0,\n",
       "       0, 0, 0, 0, 0, 0, 0, 1, 0, 0, 0, 0, 0, 0, 0, 0, 0, 0, 0, 1, 0, 6,\n",
       "       0, 0, 0, 1, 0, 0, 1, 0, 0, 5, 0, 0, 0, 0, 0, 0, 0, 2, 0, 0, 0, 0,\n",
       "       0, 0, 0, 0, 0, 0, 0, 0, 1, 0, 0, 0, 0, 0, 0, 0, 0, 0, 0, 0, 0, 0,\n",
       "       0, 0, 4, 0, 0, 0, 0, 1, 1, 0, 2, 0, 0, 0, 0, 0, 0, 0, 0, 0, 0, 0,\n",
       "       0, 0, 0, 0, 0, 0, 0, 0, 0, 0, 0, 1, 0, 0, 2, 1], dtype=int64)"
      ]
     },
     "execution_count": 27,
     "metadata": {},
     "output_type": "execute_result"
    }
   ],
   "source": [
    "data_count.toarray()[0]"
   ]
  },
  {
   "cell_type": "code",
   "execution_count": 28,
   "id": "0132b2f0",
   "metadata": {},
   "outputs": [
    {
     "name": "stdout",
     "output_type": "stream",
     "text": [
      "['00', '000', '10', '100', '11', '12', '13', '14', '145', '15', '16', '17', '18', '19', '1993', '20', '21', '22', '23', '24', '25', '26', '27', '30', '32', '34', '40', '50', '93', 'a86', 'able', 'about', 'above', 'ac', 'access', 'actually', 'address', 'after', 'again', 'against', 'ago', 'all', 'already', 'also', 'always', 'am', 'american', 'an', 'and', 'andrew', 'another', 'answer', 'any', 'anyone', 'anything', 'apple', 'apr', 'april', 'are', 'armenian', 'around', 'article', 'as', 'ask', 'at', 'au', 'available', 'away', 'ax', 'b8f', 'back', 'bad', 'based', 'be', 'because', 'been', 'before', 'being', 'believe', 'best', 'better', 'between', 'bible', 'big', 'bill', 'bit', 'book', 'both', 'but', 'buy', 'by', 'ca', 'call', 'called', 'came', 'can', 'canada', 'cannot', 'car', 'card', 'case', 'cc', 'center', 'change', 'children', 'chip', 'christian', 'clipper', 'co', 'code', 'color', 'com', 'come', 'computer', 'control', 'could', 'course', 'cs', 'current', 'data', 'david', 'day', 'days', 'de', 'department', 'did', 'didn', 'different', 'disk', 'distribution', 'do', 'does', 'doesn', 'doing', 'don', 'done', 'dos', 'down', 'drive', 'during', 'each', 'edu', 'either', 'else', 'email', 'encryption', 'end', 'enough', 'etc', 'even', 'ever', 'every', 'everything', 'evidence', 'example', 'fact', 'far', 'fax', 'few', 'file', 'files', 'find', 'first', 'following', 'for', 'found', 'free', 'from', 'ftp', 'full', 'g9v', 'game', 'games', 'general', 'get', 'getting', 'give', 'given', 'go', 'god', 'going', 'good', 'got', 'gov', 'government', 'graphics', 'great', 'group', 'gun', 'had', 'hand', 'hard', 'has', 'have', 'having', 'he', 'heard', 'help', 'her', 'here', 'high', 'him', 'his', 'home', 'hope', 'host', 'how', 'however', 'hp', 'human', 'ibm', 'idea', 'if', 'image', 'important', 'in', 'inc', 'info', 'information', 'institute', 'interested', 'internet', 'into', 'is', 'isn', 'israel', 'issue', 'it', 'its', 'jesus', 'jews', 'jim', 'john', 'just', 'keep', 'key', 'keywords', 'kind', 'know', 'large', 'last', 'law', 'least', 'left', 'less', 'let', 'life', 'like', 'line', 'lines', 'list', 'little', 'live', 'll', 'local', 'long', 'look', 'looking', 'lot', 'mac', 'made', 'mail', 'make', 'makes', 'man', 'many', 'mark', 'max', 'may', 'maybe', 'me', 'mean', 'means', 'memory', 'message', 'michael', 'might', 'mike', 'mit', 'money', 'more', 'most', 'mr', 'much', 'must', 'my', 'name', 'nasa', 'national', 'need', 'net', 'netcom', 'never', 'new', 'news', 'next', 'nntp', 'no', 'non', 'not', 'note', 'nothing', 'now', 'number', 'of', 'off', 'old', 'on', 'once', 'one', 'only', 'open', 'opinions', 'or', 'order', 'org', 'organization', 'other', 'others', 'our', 'out', 'over', 'own', 'part', 'paul', 'pc', 'people', 'perhaps', 'person', 'phone', 'pl', 'place', 'play', 'please', 'point', 'possible', 'post', 'posting', 'power', 'president', 'pretty', 'price', 'probably', 'problem', 'problems', 'program', 'public', 'put', 'question', 'questions', 'quite', 'rather', 're', 'read', 'real', 'really', 'reason', 'remember', 'reply', 'research', 'right', 'rights', 'robert', 'run', 'running', 'said', 'sale', 'same', 'say', 'saying', 'says', 'science', 'scsi', 'second', 'see', 'seem', 'seems', 'seen', 'send', 'server', 'set', 'several', 'she', 'should', 'show', 'side', 'since', 'small', 'so', 'software', 'some', 'someone', 'something', 'source', 'space', 'speed', 'standard', 'start', 'state', 'states', 'steve', 'still', 'stuff', 'subject', 'such', 'sun', 'support', 'sure', 'system', 'systems', 'take', 'team', 'technology', 'tell', 'than', 'thanks', 'that', 'the', 'their', 'them', 'then', 'there', 'these', 'they', 'thing', 'things', 'think', 'this', 'those', 'though', 'thought', 'three', 'through', 'time', 'times', 'to', 'today', 'told', 'too', 'true', 'try', 'trying', 'turkish', 'two', 'type', 'uiuc', 'uk', 'under', 'university', 'unix', 'until', 'up', 'us', 'usa', 'use', 'used', 'using', 'uucp', 've', 'version', 'very', 'vs', 'want', 'war', 'was', 'washington', 'way', 'we', 'well', 'were', 'what', 'when', 'where', 'whether', 'which', 'while', 'who', 'whole', 'why', 'will', 'win', 'window', 'windows', 'with', 'without', 'won', 'word', 'work', 'works', 'world', 'would', 'writes', 'wrong', 'wrote', 'year', 'years', 'yes', 'yet', 'you', 'your']\n"
     ]
    }
   ],
   "source": [
    "print(count_vector.get_feature_names())"
   ]
  },
  {
   "cell_type": "markdown",
   "id": "66c8521f",
   "metadata": {},
   "source": [
    "##### Cleaning it up  abit"
   ]
  },
  {
   "cell_type": "markdown",
   "id": "3a9291ef",
   "metadata": {},
   "source": [
    "###### Preprocessing"
   ]
  },
  {
   "cell_type": "code",
   "execution_count": 45,
   "id": "9e30491b",
   "metadata": {},
   "outputs": [],
   "source": [
    "def is_letter_only_word(word):\n",
    "    for char in word:\n",
    "        if not char.isalpha():\n",
    "            return False\n",
    "    return True\n",
    "\n",
    "cleaned_data = []\n",
    "for doc in groups.data:\n",
    "    cleaned_doc = ' '.join(word for word in doc.split()if is_letter_only_word(word))\n",
    "    cleaned_data.append(cleaned_doc)"
   ]
  },
  {
   "cell_type": "code",
   "execution_count": 22,
   "id": "90118676",
   "metadata": {},
   "outputs": [
    {
     "name": "stdout",
     "output_type": "stream",
     "text": [
      "frozenset({'eg', 'or', 'last', 'beyond', 'formerly', 'enough', 'ours', 'herein', 'interest', 'while', 'further', 'so', 'nevertheless', 'cant', 'amount', 'nine', 'had', 'bottom', 'thru', 'ten', 'might', 'an', 'under', 'your', 'inc', 'against', 'yourself', 'indeed', 'this', 'once', 'see', 'sixty', 'therein', 'his', 'as', 'take', 'two', 'will', 'own', 'across', 'throughout', 'only', 'during', 'almost', 'onto', 'until', 'put', 'them', 'side', 'bill', 'amongst', 'go', 'those', 'neither', 'to', 'over', 'always', 'beside', 'never', 'in', 'third', 'less', 'someone', 're', 'why', 'should', 'after', 'therefore', 'since', 'could', 'what', 'becomes', 'thereupon', 'anywhere', 'still', 'hereby', 'whither', 'often', 'mostly', 'by', 'she', 'any', 'move', 'and', 'same', 'six', 'part', 'before', 'thus', 'which', 'above', 'sometime', 'three', 'perhaps', 'several', 'somewhere', 'except', 'cry', 'been', 'her', 'moreover', 'down', 'back', 'wherever', 'whereupon', 'we', 'everything', 'who', 'thereafter', 'whom', 'amoungst', 'on', 'must', 'being', 'themselves', 'everywhere', 'here', 'either', 'is', 'please', 'full', 'thereby', 'ltd', 'into', 'keep', 'herself', 'but', 'around', 'myself', 'yet', 'seemed', 'there', 'would', 'they', 'wherein', 'along', 'then', 'get', 'front', 'sincere', 'namely', 'top', 'fifteen', 'ever', 'without', 'may', 'nor', 'whereby', 'that', 'twelve', 'already', 'un', 'others', 'even', 'you', 'show', 'for', 'out', 'due', 'where', 'than', 'alone', 'per', 'ourselves', 'seem', 'meanwhile', 'when', 'call', 'himself', 'forty', 'became', 'whatever', 'how', 'eight', 'else', 'hereupon', 'another', 'hasnt', 'do', 'nobody', 'too', 'etc', 'give', 'was', 'of', 'whereas', 'seems', 'whoever', 'de', 'system', 'first', 'eleven', 'become', 'whose', 'few', 'between', 'him', 'at', 'our', 'though', 'con', 'rather', 'such', 'below', 'anyone', 'latterly', 'among', 'done', 'although', 'if', 'mine', 'both', 'hence', 'seeming', 'co', 'empty', 'itself', 'found', 'yours', 'these', 'again', 'be', 'together', 'each', 'also', 'none', 'because', 'mill', 'one', 'behind', 'within', 'it', 'much', 'noone', 'becoming', 'whenever', 'whole', 'can', 'couldnt', 'up', 'via', 'yourselves', 'detail', 'next', 'anyway', 'elsewhere', 'afterwards', 'made', 'more', 'are', 'serious', 'somehow', 'their', 'other', 'fill', 'least', 'very', 'name', 'beforehand', 'my', 'have', 'most', 'anyhow', 'from', 'some', 'twenty', 'besides', 'with', 'fire', 'toward', 'whence', 'he', 'us', 'anything', 'describe', 'well', 'former', 'now', 'the', 'thick', 'i', 'has', 'nothing', 'me', 'no', 'were', 'about', 'hereafter', 'sometimes', 'however', 'hundred', 'find', 'fifty', 'something', 'upon', 'thin', 'otherwise', 'four', 'a', 'five', 'all', 'whereafter', 'off', 'whether', 'am', 'hers', 'thence', 'many', 'latter', 'its', 'not', 'through', 'towards', 'everyone', 'cannot', 'ie', 'nowhere', 'every'})\n"
     ]
    }
   ],
   "source": [
    "from sklearn.feature_extraction import _stop_words\n",
    "print(_stop_words.ENGLISH_STOP_WORDS)"
   ]
  },
  {
   "cell_type": "code",
   "execution_count": 15,
   "id": "5ad5b924",
   "metadata": {},
   "outputs": [],
   "source": [
    "count_vector_sw = CountVectorizer(stop_words=\"english\", max_features=500)"
   ]
  },
  {
   "cell_type": "code",
   "execution_count": 30,
   "id": "1da78ae3",
   "metadata": {},
   "outputs": [],
   "source": [
    "from nltk.corpus import names\n",
    "all_names = set(names.words())\n",
    "count_vector_sw = CountVectorizer(stop_words=\"english\", max_features=500)\n",
    "from nltk.stem import WordNetLemmatizer\n",
    "lemmatizer = WordNetLemmatizer()\n",
    "cleaned_data = []\n",
    "for doc in groups.data:\n",
    "    doc = doc.lower()\n",
    "    cleaned_doc = ' '.join(lemmatizer.lemmatize(word)\n",
    "            for word in doc.split()\n",
    "            if is_letter_only_word(word) and\n",
    "            word not in all_names)\n",
    "cleaned_data.append(cleaned_doc)\n",
    "cleaned_data_count = count_vector_sw.fit_transform(cleaned_data)\n"
   ]
  },
  {
   "cell_type": "code",
   "execution_count": 31,
   "id": "a99c63db",
   "metadata": {},
   "outputs": [
    {
     "name": "stdout",
     "output_type": "stream",
     "text": [
      "['blue', 'california', 'engine', 'guess', 'help', 'honda', 'institute', 'kg', 'kjg', 'light', 'miss', 'number', 'pasadena', 'plate', 'pm', 'rider', 'serial', 'session', 'signal', 'spring', 'stolen', 'taped', 'track', 'turn', 'usa', 'white', 'willow']\n"
     ]
    }
   ],
   "source": [
    "print(count_vector_sw.get_feature_names())"
   ]
  },
  {
   "cell_type": "code",
   "execution_count": 24,
   "id": "59ab7302",
   "metadata": {},
   "outputs": [
    {
     "name": "stdout",
     "output_type": "stream",
     "text": [
      "stolen california institute of pasadena usa see above stolen from pasadena between and pm on blue and white honda california plate kg serial number engine number no turn signal or light taped over for track rider session at willow spring guess miss help me find my kjg\n"
     ]
    }
   ],
   "source": [
    "print(cleaned_doc)"
   ]
  },
  {
   "cell_type": "code",
   "execution_count": 32,
   "id": "5fa1902e",
   "metadata": {},
   "outputs": [],
   "source": [
    "from sklearn.manifold import TSNE"
   ]
  },
  {
   "cell_type": "code",
   "execution_count": 33,
   "id": "261b1785",
   "metadata": {},
   "outputs": [],
   "source": [
    "categories_3 = ['talk.religion.misc', 'comp.graphics', 'sci.space']\n",
    "groups_3 = fetch_20newsgroups(categories=categories_3)"
   ]
  },
  {
   "cell_type": "code",
   "execution_count": 35,
   "id": "19862257",
   "metadata": {},
   "outputs": [
    {
     "data": {
      "text/plain": [
       "array([1, 1, 2, ..., 0, 1, 0], dtype=int64)"
      ]
     },
     "execution_count": 35,
     "metadata": {},
     "output_type": "execute_result"
    }
   ],
   "source": [
    "groups_3.target"
   ]
  },
  {
   "cell_type": "code",
   "execution_count": 36,
   "id": "a272a59a",
   "metadata": {},
   "outputs": [
    {
     "data": {
      "text/plain": [
       "array([0, 1, 2], dtype=int64)"
      ]
     },
     "execution_count": 36,
     "metadata": {},
     "output_type": "execute_result"
    }
   ],
   "source": [
    "np.unique(groups_3.target)"
   ]
  },
  {
   "cell_type": "code",
   "execution_count": 37,
   "id": "a368034a",
   "metadata": {},
   "outputs": [],
   "source": [
    "ct_vector = CountVectorizer(max_features = 500)"
   ]
  },
  {
   "cell_type": "code",
   "execution_count": 43,
   "id": "5ac7b81e",
   "metadata": {},
   "outputs": [],
   "source": [
    "groups_3_count = ct_vector.fit_transform(groups_3.data)"
   ]
  },
  {
   "cell_type": "code",
   "execution_count": 44,
   "id": "8e313561",
   "metadata": {},
   "outputs": [
    {
     "name": "stdout",
     "output_type": "stream",
     "text": [
      "['000', '10', '100', '11', '12', '13', '14', '15', '16', '17', '18', '19', '1993', '20', '21', '22', '23', '24', '25', '30', '3d', '93', '__', '___', 'able', 'about', 'above', 'ac', 'access', 'actually', 'address', 'after', 'again', 'against', 'alaska', 'all', 'also', 'am', 'an', 'analysis', 'and', 'another', 'answer', 'any', 'anyone', 'anything', 'apple', 'apr', 'april', 'are', 'around', 'article', 'as', 'at', 'au', 'available', 'baalke', 'back', 'based', 'be', 'because', 'been', 'before', 'being', 'believe', 'best', 'better', 'between', 'bible', 'big', 'bill', 'billion', 'bit', 'book', 'both', 'box', 'brian', 'built', 'but', 'by', 'ca', 'call', 'called', 'can', 'case', 'cc', 'center', 'change', 'children', 'christ', 'christian', 'christians', 'cmu', 'co', 'code', 'color', 'com', 'come', 'commercial', 'comp', 'computer', 'contact', 'cost', 'could', 'course', 'cs', 'current', 'data', 'david', 'day', 'days', 'dc', 'de', 'design', 'development', 'did', 'didn', 'different', 'digex', 'directory', 'display', 'distribution', 'do', 'does', 'doesn', 'doing', 'don', 'done', 'down', 'during', 'each', 'earth', 'edu', 'either', 'else', 'email', 'end', 'engineering', 'enough', 'etc', 'even', 'every', 'example', 'fact', 'faq', 'far', 'fax', 'few', 'file', 'files', 'find', 'first', 'flight', 'following', 'for', 'format', 'found', 'free', 'from', 'ftp', 'full', 'general', 'get', 'gif', 'give', 'given', 'go', 'god', 'going', 'good', 'got', 'gov', 'government', 'graphics', 'great', 'group', 'groups', 'had', 'hardware', 'has', 'have', 'having', 'he', 'heard', 'help', 'henry', 'here', 'high', 'him', 'his', 'host', 'how', 'however', 'ibm', 'idea', 'if', 'image', 'images', 'in', 'inc', 'include', 'including', 'info', 'information', 'institute', 'interested', 'international', 'internet', 'into', 'is', 'isn', 'it', 'its', 'james', 'jesus', 'jim', 'john', 'jpeg', 'jpl', 'just', 'keep', 'kent', 'keywords', 'kind', 'know', 'known', 'koresh', 'large', 'last', 'launch', 'law', 'least', 'let', 'level', 'library', 'life', 'light', 'like', 'line', 'lines', 'list', 'little', 'll', 'long', 'look', 'looking', 'lot', 'love', 'low', 'lunar', 'mac', 'made', 'mail', 'make', 'man', 'many', 'mark', 'mars', 'material', 'matter', 'may', 'maybe', 'me', 'mean', 'means', 'message', 'michael', 'might', 'mission', 'mode', 'money', 'moon', 'moral', 'morality', 'more', 'most', 'mr', 'much', 'must', 'my', 'name', 'nasa', 'national', 'need', 'net', 'never', 'new', 'news', 'next', 'nntp', 'no', 'non', 'not', 'note', 'nothing', 'now', 'number', 'objective', 'of', 'off', 'old', 'on', 'one', 'only', 'or', 'orbit', 'order', 'org', 'organization', 'original', 'other', 'others', 'our', 'out', 'over', 'own', 'package', 'part', 'pat', 'paul', 'pc', 'people', 'per', 'perhaps', 'person', 'place', 'planetary', 'please', 'point', 'points', 'polygon', 'possible', 'post', 'posting', 'power', 'probably', 'problem', 'process', 'processing', 'program', 'programs', 'project', 'propulsion', 'pub', 'public', 'put', 'question', 'questions', 'quite', 'ra', 'rather', 'ray', 're', 'read', 'real', 'really', 'reason', 'religion', 'remember', 'reply', 'research', 'right', 'robert', 'rocket', 'run', 'said', 'same', 'sandvik', 'satellite', 'say', 'says', 'sci', 'science', 'screen', 'second', 'see', 'seems', 'seen', 'send', 'set', 'several', 'sgi', 'should', 'shuttle', 'since', 'site', 'small', 'so', 'software', 'solar', 'some', 'someone', 'something', 'source', 'sources', 'space', 'spacecraft', 'spencer', 'standard', 'state', 'station', 'still', 'stuff', 'subject', 'such', 'sun', 'support', 'sure', 'surface', 'system', 'systems', 'take', 'technical', 'technology', 'tell', 'than', 'thanks', 'that', 'the', 'their', 'them', 'then', 'there', 'these', 'they', 'thing', 'things', 'think', 'this', 'those', 'though', 'thought', 'three', 'through', 'ti', 'tiff', 'time', 'times', 'to', 'today', 'too', 'toronto', 'true', 'try', 'trying', 'two', 'uiuc', 'uk', 'under', 'university', 'unix', 'until', 'up', 'us', 'usa', 'use', 'used', 'user', 'using', 'uucp', 'values', 've', 'version', 'very', 'via', 'video', 'want', 'was', 'washington', 'way', 'we', 'well', 'were', 'what', 'when', 'where', 'which', 'while', 'who', 'why', 'will', 'windows', 'with', 'without', 'word', 'work', 'working', 'world', 'would', 'writes', 'written', 'wrong', 'wrote', 'year', 'years', 'yes', 'yet', 'you', 'your', 'zoo']\n"
     ]
    }
   ],
   "source": [
    "print(ct_vector.get_feature_names())"
   ]
  },
  {
   "cell_type": "code",
   "execution_count": 47,
   "id": "58cdf0b7",
   "metadata": {},
   "outputs": [],
   "source": [
    "def is_letter_only_word(word):\n",
    "    for char in word:\n",
    "        if not char.isalpha():\n",
    "            return False\n",
    "    return True\n",
    "cleaned_data3 = []\n",
    "for doc in groups_3.data:\n",
    "    cleaned_doc3 = ' '.join(word for word in doc.split()if is_letter_only_word(word))\n",
    "    cleaned_data3.append(cleaned_doc3)\n",
    "\n",
    "    "
   ]
  },
  {
   "cell_type": "code",
   "execution_count": 51,
   "id": "9ec3e4d3",
   "metadata": {},
   "outputs": [],
   "source": [
    "from nltk.corpus import names\n",
    "all_names = set(names.words())\n",
    "cnt_vector_sw = CountVectorizer(stop_words=\"english\", max_features=500)\n",
    "from nltk.stem import WordNetLemmatizer\n",
    "lemmatizer = WordNetLemmatizer()\n",
    "cleaned_data4 = []\n",
    "for doc in groups.data:\n",
    "    doc = doc.lower()\n",
    "    cleaned_doc4 = ' '.join(lemmatizer.lemmatize(word)\n",
    "            for word in doc.split()\n",
    "            if is_letter_only_word(word) and\n",
    "            word not in all_names)\n",
    "cleaned_data4.append(cleaned_doc4)\n",
    "cleaned_data4_count = cnt_vector_sw.fit_transform(cleaned_data4)"
   ]
  },
  {
   "cell_type": "code",
   "execution_count": 52,
   "id": "ced4d845",
   "metadata": {},
   "outputs": [
    {
     "name": "stdout",
     "output_type": "stream",
     "text": [
      "['blue', 'california', 'engine', 'guess', 'help', 'honda', 'institute', 'kg', 'kjg', 'light', 'miss', 'number', 'pasadena', 'plate', 'pm', 'rider', 'serial', 'session', 'signal', 'spring', 'stolen', 'taped', 'track', 'turn', 'usa', 'white', 'willow']\n"
     ]
    }
   ],
   "source": [
    "print(cnt_vector_sw.get_feature_names())"
   ]
  },
  {
   "cell_type": "markdown",
   "id": "06645470",
   "metadata": {},
   "source": [
    "###### Having problems getting the right outputs, review from Stackoverflow !!!!"
   ]
  },
  {
   "cell_type": "code",
   "execution_count": 53,
   "id": "3fe7bf36",
   "metadata": {},
   "outputs": [
    {
     "ename": "ValueError",
     "evalue": "Found array with 1 sample(s) (shape=(1, 27)) while a minimum of 2 is required.",
     "output_type": "error",
     "traceback": [
      "\u001b[1;31m---------------------------------------------------------------------------\u001b[0m",
      "\u001b[1;31mValueError\u001b[0m                                Traceback (most recent call last)",
      "\u001b[1;32m<ipython-input-53-0dd3c725b1ba>\u001b[0m in \u001b[0;36m<module>\u001b[1;34m\u001b[0m\n\u001b[0;32m      1\u001b[0m \u001b[0mtsne_model\u001b[0m \u001b[1;33m=\u001b[0m \u001b[0mTSNE\u001b[0m\u001b[1;33m(\u001b[0m\u001b[0mn_components\u001b[0m\u001b[1;33m=\u001b[0m\u001b[1;36m2\u001b[0m\u001b[1;33m,\u001b[0m \u001b[0mperplexity\u001b[0m\u001b[1;33m=\u001b[0m\u001b[1;36m40\u001b[0m\u001b[1;33m,\u001b[0m\u001b[0mrandom_state\u001b[0m\u001b[1;33m=\u001b[0m\u001b[1;36m42\u001b[0m\u001b[1;33m,\u001b[0m \u001b[0mlearning_rate\u001b[0m\u001b[1;33m=\u001b[0m\u001b[1;36m500\u001b[0m\u001b[1;33m)\u001b[0m\u001b[1;33m\u001b[0m\u001b[1;33m\u001b[0m\u001b[0m\n\u001b[1;32m----> 2\u001b[1;33m \u001b[0mdata_tsne\u001b[0m \u001b[1;33m=\u001b[0m \u001b[0mtsne_model\u001b[0m\u001b[1;33m.\u001b[0m\u001b[0mfit_transform\u001b[0m\u001b[1;33m(\u001b[0m\u001b[0mcleaned_data4_count\u001b[0m\u001b[1;33m.\u001b[0m\u001b[0mtoarray\u001b[0m\u001b[1;33m(\u001b[0m\u001b[1;33m)\u001b[0m\u001b[1;33m)\u001b[0m\u001b[1;33m\u001b[0m\u001b[1;33m\u001b[0m\u001b[0m\n\u001b[0m",
      "\u001b[1;32m~\\AppData\\Roaming\\Python\\Python38\\site-packages\\sklearn\\manifold\\_t_sne.py\u001b[0m in \u001b[0;36mfit_transform\u001b[1;34m(self, X, y)\u001b[0m\n\u001b[0;32m    930\u001b[0m             \u001b[0mEmbedding\u001b[0m \u001b[0mof\u001b[0m \u001b[0mthe\u001b[0m \u001b[0mtraining\u001b[0m \u001b[0mdata\u001b[0m \u001b[1;32min\u001b[0m \u001b[0mlow\u001b[0m\u001b[1;33m-\u001b[0m\u001b[0mdimensional\u001b[0m \u001b[0mspace\u001b[0m\u001b[1;33m.\u001b[0m\u001b[1;33m\u001b[0m\u001b[1;33m\u001b[0m\u001b[0m\n\u001b[0;32m    931\u001b[0m         \"\"\"\n\u001b[1;32m--> 932\u001b[1;33m         \u001b[0membedding\u001b[0m \u001b[1;33m=\u001b[0m \u001b[0mself\u001b[0m\u001b[1;33m.\u001b[0m\u001b[0m_fit\u001b[0m\u001b[1;33m(\u001b[0m\u001b[0mX\u001b[0m\u001b[1;33m)\u001b[0m\u001b[1;33m\u001b[0m\u001b[1;33m\u001b[0m\u001b[0m\n\u001b[0m\u001b[0;32m    933\u001b[0m         \u001b[0mself\u001b[0m\u001b[1;33m.\u001b[0m\u001b[0membedding_\u001b[0m \u001b[1;33m=\u001b[0m \u001b[0membedding\u001b[0m\u001b[1;33m\u001b[0m\u001b[1;33m\u001b[0m\u001b[0m\n\u001b[0;32m    934\u001b[0m         \u001b[1;32mreturn\u001b[0m \u001b[0mself\u001b[0m\u001b[1;33m.\u001b[0m\u001b[0membedding_\u001b[0m\u001b[1;33m\u001b[0m\u001b[1;33m\u001b[0m\u001b[0m\n",
      "\u001b[1;32m~\\AppData\\Roaming\\Python\\Python38\\site-packages\\sklearn\\manifold\\_t_sne.py\u001b[0m in \u001b[0;36m_fit\u001b[1;34m(self, X, skip_num_points)\u001b[0m\n\u001b[0;32m    700\u001b[0m             )\n\u001b[0;32m    701\u001b[0m         \u001b[1;32mif\u001b[0m \u001b[0mself\u001b[0m\u001b[1;33m.\u001b[0m\u001b[0mmethod\u001b[0m \u001b[1;33m==\u001b[0m \u001b[1;34m'barnes_hut'\u001b[0m\u001b[1;33m:\u001b[0m\u001b[1;33m\u001b[0m\u001b[1;33m\u001b[0m\u001b[0m\n\u001b[1;32m--> 702\u001b[1;33m             X = self._validate_data(X, accept_sparse=['csr'],\n\u001b[0m\u001b[0;32m    703\u001b[0m                                     \u001b[0mensure_min_samples\u001b[0m\u001b[1;33m=\u001b[0m\u001b[1;36m2\u001b[0m\u001b[1;33m,\u001b[0m\u001b[1;33m\u001b[0m\u001b[1;33m\u001b[0m\u001b[0m\n\u001b[0;32m    704\u001b[0m                                     dtype=[np.float32, np.float64])\n",
      "\u001b[1;32m~\\AppData\\Roaming\\Python\\Python38\\site-packages\\sklearn\\base.py\u001b[0m in \u001b[0;36m_validate_data\u001b[1;34m(self, X, y, reset, validate_separately, **check_params)\u001b[0m\n\u001b[0;32m    419\u001b[0m             \u001b[0mout\u001b[0m \u001b[1;33m=\u001b[0m \u001b[0mX\u001b[0m\u001b[1;33m\u001b[0m\u001b[1;33m\u001b[0m\u001b[0m\n\u001b[0;32m    420\u001b[0m         \u001b[1;32melif\u001b[0m \u001b[0misinstance\u001b[0m\u001b[1;33m(\u001b[0m\u001b[0my\u001b[0m\u001b[1;33m,\u001b[0m \u001b[0mstr\u001b[0m\u001b[1;33m)\u001b[0m \u001b[1;32mand\u001b[0m \u001b[0my\u001b[0m \u001b[1;33m==\u001b[0m \u001b[1;34m'no_validation'\u001b[0m\u001b[1;33m:\u001b[0m\u001b[1;33m\u001b[0m\u001b[1;33m\u001b[0m\u001b[0m\n\u001b[1;32m--> 421\u001b[1;33m             \u001b[0mX\u001b[0m \u001b[1;33m=\u001b[0m \u001b[0mcheck_array\u001b[0m\u001b[1;33m(\u001b[0m\u001b[0mX\u001b[0m\u001b[1;33m,\u001b[0m \u001b[1;33m**\u001b[0m\u001b[0mcheck_params\u001b[0m\u001b[1;33m)\u001b[0m\u001b[1;33m\u001b[0m\u001b[1;33m\u001b[0m\u001b[0m\n\u001b[0m\u001b[0;32m    422\u001b[0m             \u001b[0mout\u001b[0m \u001b[1;33m=\u001b[0m \u001b[0mX\u001b[0m\u001b[1;33m\u001b[0m\u001b[1;33m\u001b[0m\u001b[0m\n\u001b[0;32m    423\u001b[0m         \u001b[1;32melse\u001b[0m\u001b[1;33m:\u001b[0m\u001b[1;33m\u001b[0m\u001b[1;33m\u001b[0m\u001b[0m\n",
      "\u001b[1;32m~\\AppData\\Roaming\\Python\\Python38\\site-packages\\sklearn\\utils\\validation.py\u001b[0m in \u001b[0;36minner_f\u001b[1;34m(*args, **kwargs)\u001b[0m\n\u001b[0;32m     61\u001b[0m             \u001b[0mextra_args\u001b[0m \u001b[1;33m=\u001b[0m \u001b[0mlen\u001b[0m\u001b[1;33m(\u001b[0m\u001b[0margs\u001b[0m\u001b[1;33m)\u001b[0m \u001b[1;33m-\u001b[0m \u001b[0mlen\u001b[0m\u001b[1;33m(\u001b[0m\u001b[0mall_args\u001b[0m\u001b[1;33m)\u001b[0m\u001b[1;33m\u001b[0m\u001b[1;33m\u001b[0m\u001b[0m\n\u001b[0;32m     62\u001b[0m             \u001b[1;32mif\u001b[0m \u001b[0mextra_args\u001b[0m \u001b[1;33m<=\u001b[0m \u001b[1;36m0\u001b[0m\u001b[1;33m:\u001b[0m\u001b[1;33m\u001b[0m\u001b[1;33m\u001b[0m\u001b[0m\n\u001b[1;32m---> 63\u001b[1;33m                 \u001b[1;32mreturn\u001b[0m \u001b[0mf\u001b[0m\u001b[1;33m(\u001b[0m\u001b[1;33m*\u001b[0m\u001b[0margs\u001b[0m\u001b[1;33m,\u001b[0m \u001b[1;33m**\u001b[0m\u001b[0mkwargs\u001b[0m\u001b[1;33m)\u001b[0m\u001b[1;33m\u001b[0m\u001b[1;33m\u001b[0m\u001b[0m\n\u001b[0m\u001b[0;32m     64\u001b[0m \u001b[1;33m\u001b[0m\u001b[0m\n\u001b[0;32m     65\u001b[0m             \u001b[1;31m# extra_args > 0\u001b[0m\u001b[1;33m\u001b[0m\u001b[1;33m\u001b[0m\u001b[1;33m\u001b[0m\u001b[0m\n",
      "\u001b[1;32m~\\AppData\\Roaming\\Python\\Python38\\site-packages\\sklearn\\utils\\validation.py\u001b[0m in \u001b[0;36mcheck_array\u001b[1;34m(array, accept_sparse, accept_large_sparse, dtype, order, copy, force_all_finite, ensure_2d, allow_nd, ensure_min_samples, ensure_min_features, estimator)\u001b[0m\n\u001b[0;32m    724\u001b[0m         \u001b[0mn_samples\u001b[0m \u001b[1;33m=\u001b[0m \u001b[0m_num_samples\u001b[0m\u001b[1;33m(\u001b[0m\u001b[0marray\u001b[0m\u001b[1;33m)\u001b[0m\u001b[1;33m\u001b[0m\u001b[1;33m\u001b[0m\u001b[0m\n\u001b[0;32m    725\u001b[0m         \u001b[1;32mif\u001b[0m \u001b[0mn_samples\u001b[0m \u001b[1;33m<\u001b[0m \u001b[0mensure_min_samples\u001b[0m\u001b[1;33m:\u001b[0m\u001b[1;33m\u001b[0m\u001b[1;33m\u001b[0m\u001b[0m\n\u001b[1;32m--> 726\u001b[1;33m             raise ValueError(\"Found array with %d sample(s) (shape=%s) while a\"\n\u001b[0m\u001b[0;32m    727\u001b[0m                              \u001b[1;34m\" minimum of %d is required%s.\"\u001b[0m\u001b[1;33m\u001b[0m\u001b[1;33m\u001b[0m\u001b[0m\n\u001b[0;32m    728\u001b[0m                              % (n_samples, array.shape, ensure_min_samples,\n",
      "\u001b[1;31mValueError\u001b[0m: Found array with 1 sample(s) (shape=(1, 27)) while a minimum of 2 is required."
     ]
    }
   ],
   "source": [
    "tsne_model = TSNE(n_components=2, perplexity=40,random_state=42, learning_rate=500)\n",
    "data_tsne = tsne_model.fit_transform(cleaned_data4_count.toarray())"
   ]
  },
  {
   "cell_type": "code",
   "execution_count": 54,
   "id": "ca97e4c7",
   "metadata": {},
   "outputs": [
    {
     "ename": "NameError",
     "evalue": "name 'data_tsne' is not defined",
     "output_type": "error",
     "traceback": [
      "\u001b[1;31m---------------------------------------------------------------------------\u001b[0m",
      "\u001b[1;31mNameError\u001b[0m                                 Traceback (most recent call last)",
      "\u001b[1;32m<ipython-input-54-2f1164c54a05>\u001b[0m in \u001b[0;36m<module>\u001b[1;34m\u001b[0m\n\u001b[0;32m      1\u001b[0m \u001b[1;32mimport\u001b[0m \u001b[0mmatplotlib\u001b[0m\u001b[1;33m.\u001b[0m\u001b[0mpyplot\u001b[0m \u001b[1;32mas\u001b[0m \u001b[0mplt\u001b[0m\u001b[1;33m\u001b[0m\u001b[1;33m\u001b[0m\u001b[0m\n\u001b[1;32m----> 2\u001b[1;33m \u001b[0mplt\u001b[0m\u001b[1;33m.\u001b[0m\u001b[0mscatter\u001b[0m\u001b[1;33m(\u001b[0m\u001b[0mdata_tsne\u001b[0m\u001b[1;33m[\u001b[0m\u001b[1;33m:\u001b[0m\u001b[1;33m,\u001b[0m \u001b[1;36m0\u001b[0m\u001b[1;33m]\u001b[0m\u001b[1;33m,\u001b[0m \u001b[0mdata_tsne\u001b[0m\u001b[1;33m[\u001b[0m\u001b[1;33m:\u001b[0m\u001b[1;33m,\u001b[0m \u001b[1;36m1\u001b[0m\u001b[1;33m]\u001b[0m\u001b[1;33m,\u001b[0m \u001b[0mc\u001b[0m\u001b[1;33m=\u001b[0m\u001b[0mgroups_3\u001b[0m\u001b[1;33m.\u001b[0m\u001b[0mtarget\u001b[0m\u001b[1;33m)\u001b[0m\u001b[1;33m\u001b[0m\u001b[1;33m\u001b[0m\u001b[0m\n\u001b[0m\u001b[0;32m      3\u001b[0m \u001b[0mplt\u001b[0m\u001b[1;33m.\u001b[0m\u001b[0mshow\u001b[0m\u001b[1;33m(\u001b[0m\u001b[1;33m)\u001b[0m\u001b[1;33m\u001b[0m\u001b[1;33m\u001b[0m\u001b[0m\n",
      "\u001b[1;31mNameError\u001b[0m: name 'data_tsne' is not defined"
     ]
    }
   ],
   "source": [
    "import matplotlib.pyplot as plt\n",
    "plt.scatter(data_tsne[:, 0], data_tsne[:, 1], c=groups_3.target)\n",
    "plt.show()"
   ]
  },
  {
   "cell_type": "code",
   "execution_count": 55,
   "id": "59eff6a1",
   "metadata": {},
   "outputs": [],
   "source": [
    "categories_5 = ['comp.graphics', 'comp.os.ms-windows.misc',\n",
    "'comp.sys.ibm.pc.hardware', 'comp.sys.mac.hardware', 'comp.windows.x']"
   ]
  },
  {
   "cell_type": "code",
   "execution_count": 56,
   "id": "d99c45f9",
   "metadata": {},
   "outputs": [],
   "source": [
    "groups_5 = fetch_20newsgroups(categories=categories_5)"
   ]
  },
  {
   "cell_type": "code",
   "execution_count": null,
   "id": "cb57fee1",
   "metadata": {},
   "outputs": [],
   "source": []
  }
 ],
 "metadata": {
  "kernelspec": {
   "display_name": "Python 3",
   "language": "python",
   "name": "python3"
  },
  "language_info": {
   "codemirror_mode": {
    "name": "ipython",
    "version": 3
   },
   "file_extension": ".py",
   "mimetype": "text/x-python",
   "name": "python",
   "nbconvert_exporter": "python",
   "pygments_lexer": "ipython3",
   "version": "3.8.8"
  }
 },
 "nbformat": 4,
 "nbformat_minor": 5
}
