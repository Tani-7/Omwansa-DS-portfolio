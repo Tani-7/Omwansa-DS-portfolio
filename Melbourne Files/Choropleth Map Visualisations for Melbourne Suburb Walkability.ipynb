{
 "cells": [
  {
   "cell_type": "markdown",
   "source": [
    "## Choropleth Maps for Spatial Visualisation of Spatial Data (duh). "
   ],
   "metadata": {}
  },
  {
   "cell_type": "code",
   "execution_count": 7,
   "source": [
    "import numpy as np\r\n",
    "import pandas as pd\r\n",
    "from pandas import Series,DataFrame\r\n",
    "import folium\r\n",
    "import geopandas\r\n",
    "# import json"
   ],
   "outputs": [],
   "metadata": {
    "collapsed": false
   }
  },
  {
   "cell_type": "markdown",
   "source": [
    "First we load up the csv for SA1s in Inner Melbourne, their <i>Walkability</i> scores and related metrics. "
   ],
   "metadata": {}
  },
  {
   "cell_type": "code",
   "execution_count": 8,
   "source": [
    "dframe = pd.read_csv('data/innermelbourne.csv')\r\n",
    "dframe.columns = dframe.columns.str.strip() #Taking care of formatting issues in column names."
   ],
   "outputs": [],
   "metadata": {
    "collapsed": true
   }
  },
  {
   "cell_type": "code",
   "execution_count": 9,
   "source": [
    "#Dropping columns deemed irrelevant\r\n",
    "aframe = dframe.drop(['gcc_name11','gcc_code11','sa2_5dig11','sa1_7dig11','sa3_code11','sa4_code11','ste_code11','ste_name11'],axis=1)"
   ],
   "outputs": [],
   "metadata": {
    "collapsed": false
   }
  },
  {
   "cell_type": "markdown",
   "source": [
    "Now we use pandas to group SA1s together, according to their suburbs, and then calculate the averages for Walkabiity scores and other metrics. "
   ],
   "metadata": {}
  },
  {
   "cell_type": "code",
   "execution_count": 10,
   "source": [
    "#Group by suburb\r\n",
    "avg_sa2 = aframe[['sa2_name11','SumZScore']].groupby('sa2_name11').mean()\r\n",
    "\r\n",
    "#Group by SA3\r\n",
    "avg_sa3 = aframe[['sa3_name11','SumZScore']].groupby('sa3_name11').mean()"
   ],
   "outputs": [],
   "metadata": {
    "collapsed": false
   }
  },
  {
   "cell_type": "code",
   "execution_count": 11,
   "source": [
    "#To get names of all sa2 suburbs, regardless of missing values\r\n",
    "area_suburbs = Series.sort_values(geopandas.GeoDataFrame.from_file('data/inner_melb_sa2.json')['area_name'])\r\n",
    "\r\n",
    "#Doing this for SA1s right now.\r\n",
    "sa1_codes = Series.sort_values(geopandas.GeoDataFrame.from_file('data/inner_melb_sa1.json')['sa1_code'])"
   ],
   "outputs": [],
   "metadata": {
    "collapsed": false
   }
  },
  {
   "cell_type": "markdown",
   "source": [
    "Now we'll do some pre-processing on the aggregated data-sets, inc. resetting the index, and changing column names. So that it's ready to be fed-into Folium in the format required."
   ],
   "metadata": {}
  },
  {
   "cell_type": "code",
   "execution_count": 20,
   "source": [
    "sa3_walk_avg = avg_sa3[['SumZScore']].reset_index()\r\n",
    "sa3_walk_avg.columns = ['SA3 Suburb','Walkability Score']\r\n",
    "sa3_walk_avg"
   ],
   "outputs": [
    {
     "output_type": "execute_result",
     "data": {
      "text/plain": [
       "           SA3 Suburb  Walkability Score\n",
       "0  Brunswick - Coburg          -1.442297\n",
       "1     Darebin - South          -1.705241\n",
       "2            Essendon          -1.501010\n",
       "3      Melbourne City           2.551466\n",
       "4        Port Phillip           0.256828\n",
       "5  Stonnington - West           0.053694\n",
       "6               Yarra           0.446783"
      ],
      "text/html": [
       "<div>\n",
       "<table border=\"1\" class=\"dataframe\">\n",
       "  <thead>\n",
       "    <tr style=\"text-align: right;\">\n",
       "      <th></th>\n",
       "      <th>SA3 Suburb</th>\n",
       "      <th>Walkability Score</th>\n",
       "    </tr>\n",
       "  </thead>\n",
       "  <tbody>\n",
       "    <tr>\n",
       "      <th>0</th>\n",
       "      <td>Brunswick - Coburg</td>\n",
       "      <td>-1.442297</td>\n",
       "    </tr>\n",
       "    <tr>\n",
       "      <th>1</th>\n",
       "      <td>Darebin - South</td>\n",
       "      <td>-1.705241</td>\n",
       "    </tr>\n",
       "    <tr>\n",
       "      <th>2</th>\n",
       "      <td>Essendon</td>\n",
       "      <td>-1.501010</td>\n",
       "    </tr>\n",
       "    <tr>\n",
       "      <th>3</th>\n",
       "      <td>Melbourne City</td>\n",
       "      <td>2.551466</td>\n",
       "    </tr>\n",
       "    <tr>\n",
       "      <th>4</th>\n",
       "      <td>Port Phillip</td>\n",
       "      <td>0.256828</td>\n",
       "    </tr>\n",
       "    <tr>\n",
       "      <th>5</th>\n",
       "      <td>Stonnington - West</td>\n",
       "      <td>0.053694</td>\n",
       "    </tr>\n",
       "    <tr>\n",
       "      <th>6</th>\n",
       "      <td>Yarra</td>\n",
       "      <td>0.446783</td>\n",
       "    </tr>\n",
       "  </tbody>\n",
       "</table>\n",
       "</div>"
      ]
     },
     "metadata": {},
     "execution_count": 20
    }
   ],
   "metadata": {
    "collapsed": false
   }
  },
  {
   "cell_type": "code",
   "execution_count": 21,
   "source": [
    "suburb_walk_avg = avg_sa2[['SumZScore']]\r\n",
    "suburb_walk_avg = suburb_walk_avg.reindex(area_suburbs,fill_value=None).reset_index()\r\n",
    "suburb_walk_avg.columns = ['SA2 Suburb','Walkability Score']\r\n",
    "suburb_walk_avg"
   ],
   "outputs": [
    {
     "output_type": "execute_result",
     "data": {
      "text/plain": [
       "                      SA2 Suburb  Walkability Score\n",
       "0                     Abbotsford           0.847583\n",
       "1                    Albert Park           0.425471\n",
       "2         Alphington - Fairfield          -2.055192\n",
       "3                       Armadale          -1.016522\n",
       "4                     Ascot Vale          -1.463378\n",
       "5                      Brunswick          -0.680594\n",
       "6                 Brunswick East          -0.417797\n",
       "7                 Brunswick West          -1.725236\n",
       "8                        Carlton           2.698953\n",
       "9   Carlton North - Princes Hill          -0.955973\n",
       "10                        Coburg          -1.852370\n",
       "11                   Collingwood           1.015557\n",
       "12                     Docklands           1.168116\n",
       "13                East Melbourne           0.954821\n",
       "14                        Elwood          -0.626253\n",
       "15         Essendon - Aberfeldie          -2.004841\n",
       "16                       Fitzroy           1.344740\n",
       "17                 Fitzroy North           0.204232\n",
       "18                    Flemington          -0.136415\n",
       "19         Flemington Racecourse                NaN\n",
       "20                    Kensington           1.062515\n",
       "21                     Melbourne           3.547425\n",
       "22                  Moonee Ponds          -1.473731\n",
       "23               North Melbourne           1.697015\n",
       "24                     Northcote          -1.240260\n",
       "25                     Parkville           0.655882\n",
       "26             Pascoe Vale South          -2.406909\n",
       "27                Port Melbourne           0.927201\n",
       "28     Port Melbourne Industrial          -1.290091\n",
       "29             Prahran - Windsor           1.201360\n",
       "30               Richmond (Vic.)           0.836230\n",
       "31               South Melbourne           1.838322\n",
       "32            South Yarra - East           1.249292\n",
       "33            South Yarra - West           0.823606\n",
       "34                     Southbank           6.816946\n",
       "35                      St Kilda           0.652861\n",
       "36                 St Kilda East          -1.086723\n",
       "37                     Thornbury          -2.108694\n",
       "38                        Toorak          -1.939547\n",
       "39                West Melbourne                NaN\n",
       "40                 Yarra - North          -0.451671"
      ],
      "text/html": [
       "<div>\n",
       "<table border=\"1\" class=\"dataframe\">\n",
       "  <thead>\n",
       "    <tr style=\"text-align: right;\">\n",
       "      <th></th>\n",
       "      <th>SA2 Suburb</th>\n",
       "      <th>Walkability Score</th>\n",
       "    </tr>\n",
       "  </thead>\n",
       "  <tbody>\n",
       "    <tr>\n",
       "      <th>0</th>\n",
       "      <td>Abbotsford</td>\n",
       "      <td>0.847583</td>\n",
       "    </tr>\n",
       "    <tr>\n",
       "      <th>1</th>\n",
       "      <td>Albert Park</td>\n",
       "      <td>0.425471</td>\n",
       "    </tr>\n",
       "    <tr>\n",
       "      <th>2</th>\n",
       "      <td>Alphington - Fairfield</td>\n",
       "      <td>-2.055192</td>\n",
       "    </tr>\n",
       "    <tr>\n",
       "      <th>3</th>\n",
       "      <td>Armadale</td>\n",
       "      <td>-1.016522</td>\n",
       "    </tr>\n",
       "    <tr>\n",
       "      <th>4</th>\n",
       "      <td>Ascot Vale</td>\n",
       "      <td>-1.463378</td>\n",
       "    </tr>\n",
       "    <tr>\n",
       "      <th>5</th>\n",
       "      <td>Brunswick</td>\n",
       "      <td>-0.680594</td>\n",
       "    </tr>\n",
       "    <tr>\n",
       "      <th>6</th>\n",
       "      <td>Brunswick East</td>\n",
       "      <td>-0.417797</td>\n",
       "    </tr>\n",
       "    <tr>\n",
       "      <th>7</th>\n",
       "      <td>Brunswick West</td>\n",
       "      <td>-1.725236</td>\n",
       "    </tr>\n",
       "    <tr>\n",
       "      <th>8</th>\n",
       "      <td>Carlton</td>\n",
       "      <td>2.698953</td>\n",
       "    </tr>\n",
       "    <tr>\n",
       "      <th>9</th>\n",
       "      <td>Carlton North - Princes Hill</td>\n",
       "      <td>-0.955973</td>\n",
       "    </tr>\n",
       "    <tr>\n",
       "      <th>10</th>\n",
       "      <td>Coburg</td>\n",
       "      <td>-1.852370</td>\n",
       "    </tr>\n",
       "    <tr>\n",
       "      <th>11</th>\n",
       "      <td>Collingwood</td>\n",
       "      <td>1.015557</td>\n",
       "    </tr>\n",
       "    <tr>\n",
       "      <th>12</th>\n",
       "      <td>Docklands</td>\n",
       "      <td>1.168116</td>\n",
       "    </tr>\n",
       "    <tr>\n",
       "      <th>13</th>\n",
       "      <td>East Melbourne</td>\n",
       "      <td>0.954821</td>\n",
       "    </tr>\n",
       "    <tr>\n",
       "      <th>14</th>\n",
       "      <td>Elwood</td>\n",
       "      <td>-0.626253</td>\n",
       "    </tr>\n",
       "    <tr>\n",
       "      <th>15</th>\n",
       "      <td>Essendon - Aberfeldie</td>\n",
       "      <td>-2.004841</td>\n",
       "    </tr>\n",
       "    <tr>\n",
       "      <th>16</th>\n",
       "      <td>Fitzroy</td>\n",
       "      <td>1.344740</td>\n",
       "    </tr>\n",
       "    <tr>\n",
       "      <th>17</th>\n",
       "      <td>Fitzroy North</td>\n",
       "      <td>0.204232</td>\n",
       "    </tr>\n",
       "    <tr>\n",
       "      <th>18</th>\n",
       "      <td>Flemington</td>\n",
       "      <td>-0.136415</td>\n",
       "    </tr>\n",
       "    <tr>\n",
       "      <th>19</th>\n",
       "      <td>Flemington Racecourse</td>\n",
       "      <td>NaN</td>\n",
       "    </tr>\n",
       "    <tr>\n",
       "      <th>20</th>\n",
       "      <td>Kensington</td>\n",
       "      <td>1.062515</td>\n",
       "    </tr>\n",
       "    <tr>\n",
       "      <th>21</th>\n",
       "      <td>Melbourne</td>\n",
       "      <td>3.547425</td>\n",
       "    </tr>\n",
       "    <tr>\n",
       "      <th>22</th>\n",
       "      <td>Moonee Ponds</td>\n",
       "      <td>-1.473731</td>\n",
       "    </tr>\n",
       "    <tr>\n",
       "      <th>23</th>\n",
       "      <td>North Melbourne</td>\n",
       "      <td>1.697015</td>\n",
       "    </tr>\n",
       "    <tr>\n",
       "      <th>24</th>\n",
       "      <td>Northcote</td>\n",
       "      <td>-1.240260</td>\n",
       "    </tr>\n",
       "    <tr>\n",
       "      <th>25</th>\n",
       "      <td>Parkville</td>\n",
       "      <td>0.655882</td>\n",
       "    </tr>\n",
       "    <tr>\n",
       "      <th>26</th>\n",
       "      <td>Pascoe Vale South</td>\n",
       "      <td>-2.406909</td>\n",
       "    </tr>\n",
       "    <tr>\n",
       "      <th>27</th>\n",
       "      <td>Port Melbourne</td>\n",
       "      <td>0.927201</td>\n",
       "    </tr>\n",
       "    <tr>\n",
       "      <th>28</th>\n",
       "      <td>Port Melbourne Industrial</td>\n",
       "      <td>-1.290091</td>\n",
       "    </tr>\n",
       "    <tr>\n",
       "      <th>29</th>\n",
       "      <td>Prahran - Windsor</td>\n",
       "      <td>1.201360</td>\n",
       "    </tr>\n",
       "    <tr>\n",
       "      <th>30</th>\n",
       "      <td>Richmond (Vic.)</td>\n",
       "      <td>0.836230</td>\n",
       "    </tr>\n",
       "    <tr>\n",
       "      <th>31</th>\n",
       "      <td>South Melbourne</td>\n",
       "      <td>1.838322</td>\n",
       "    </tr>\n",
       "    <tr>\n",
       "      <th>32</th>\n",
       "      <td>South Yarra - East</td>\n",
       "      <td>1.249292</td>\n",
       "    </tr>\n",
       "    <tr>\n",
       "      <th>33</th>\n",
       "      <td>South Yarra - West</td>\n",
       "      <td>0.823606</td>\n",
       "    </tr>\n",
       "    <tr>\n",
       "      <th>34</th>\n",
       "      <td>Southbank</td>\n",
       "      <td>6.816946</td>\n",
       "    </tr>\n",
       "    <tr>\n",
       "      <th>35</th>\n",
       "      <td>St Kilda</td>\n",
       "      <td>0.652861</td>\n",
       "    </tr>\n",
       "    <tr>\n",
       "      <th>36</th>\n",
       "      <td>St Kilda East</td>\n",
       "      <td>-1.086723</td>\n",
       "    </tr>\n",
       "    <tr>\n",
       "      <th>37</th>\n",
       "      <td>Thornbury</td>\n",
       "      <td>-2.108694</td>\n",
       "    </tr>\n",
       "    <tr>\n",
       "      <th>38</th>\n",
       "      <td>Toorak</td>\n",
       "      <td>-1.939547</td>\n",
       "    </tr>\n",
       "    <tr>\n",
       "      <th>39</th>\n",
       "      <td>West Melbourne</td>\n",
       "      <td>NaN</td>\n",
       "    </tr>\n",
       "    <tr>\n",
       "      <th>40</th>\n",
       "      <td>Yarra - North</td>\n",
       "      <td>-0.451671</td>\n",
       "    </tr>\n",
       "  </tbody>\n",
       "</table>\n",
       "</div>"
      ]
     },
     "metadata": {},
     "execution_count": 21
    }
   ],
   "metadata": {
    "collapsed": false
   }
  },
  {
   "cell_type": "markdown",
   "source": [
    "Everything works as expected till now, so let's start building the choroleths using Folium.\n",
    "\n",
    "For building a folium/leaflet choropleth map, the inputs include: the starting coordinates for the map, GeoJSON polygons representing SA boundaries, the data-set to visualize (walkability scores), key column to bind the data on, and other cosmetic parameters."
   ],
   "metadata": {}
  },
  {
   "cell_type": "code",
   "execution_count": null,
   "source": [
    "map_melb_sa3 = folium.Map(location=[-37.814,144.954],zoom_start = 12,max_zoom=15)\r\n",
    "\r\n",
    "map_melb_sa3.choropleth(\r\n",
    "    geo_path='data/inner_melb_sa3.json', #path to the geojson polygons for inner Melbourne SA3s, obtained from AURIN\r\n",
    "    data = sa3_walk_avg, #data to bind to the choropleth\r\n",
    "    key_on= 'properties.feature_name', #Key in the geojson file to map to the walkability scores\r\n",
    "    columns=['SA3 Suburb', 'Walkability Score'], \r\n",
    "    fill_color='YlGnBu', #Colors to fill the choropleth\r\n",
    "    line_weight=2, #Weight of the boundary line\r\n",
    ")\r\n",
    "\r\n",
    "map_melb_sa3.create_map('choropleth-maps/sa3melbourne.html') #Saving the maps to an html file\r\n",
    "map_melb_sa3\r\n"
   ],
   "outputs": [],
   "metadata": {
    "collapsed": false,
    "scrolled": false
   }
  },
  {
   "cell_type": "markdown",
   "source": [
    "And there it is! Our very own choropleth map built on top of our data. Let's build one for SA2s so that there's more to talk about."
   ],
   "metadata": {}
  },
  {
   "cell_type": "code",
   "execution_count": null,
   "source": [
    "map_melb_sa2 = folium.Map(location=[-37.814,144.954],zoom_start = 12,max_zoom=15)\r\n",
    "\r\n",
    "map_melb_sa2.choropleth(\r\n",
    "    geo_path='data/inner_melb_sa2.json',\r\n",
    "    data = suburb_walk_avg,\r\n",
    "    key_on= 'properties.area_name',\r\n",
    "    columns=['SA2 Suburb', 'Walkability Score'],\r\n",
    "    fill_color='YlGnBu',\r\n",
    "    line_weight=2,\r\n",
    "    legend_name = 'Walkability Score'\r\n",
    ")\r\n",
    "\r\n",
    "map_melb_sa2.create_map('choropleth-maps/sa2melbourne.html')\r\n",
    "map_melb_sa2\r\n"
   ],
   "outputs": [],
   "metadata": {
    "collapsed": false,
    "scrolled": false
   }
  },
  {
   "cell_type": "markdown",
   "source": [
    "Now we have a instinctively understandable visualisation for Inner Melbourne's suburbs. \n",
    "\n",
    "Southbank is the most walkable region, and we can also see that the closer a suburb is to Melbourne's CBD, the more walkable it is. This makes sense because you would expect CBD regions to have better road connectivity and land use mixes.\n",
    "\n",
    "Let's make one last choropleth for SA1s."
   ],
   "metadata": {}
  },
  {
   "cell_type": "code",
   "execution_count": 24,
   "source": [
    "SA1 choropleths.\r\n",
    "avg_sa1 = aframe[['sa1_main11','SumZScore']].groupby('sa1_main11').mean()\r\n",
    "sa1_walk_avg = avg_sa1['SumZScore']"
   ],
   "outputs": [],
   "metadata": {
    "collapsed": false
   }
  },
  {
   "cell_type": "code",
   "execution_count": 25,
   "source": [
    "set the data type of indexes to string. Important for future geoJson and choropleth operations.\r\n",
    "sa1_walk_avg = sa1_walk_avg.reset_index()\r\n",
    "sa1_walk_avg.columns = ['SA1 Code','Walkability Score']\r\n",
    "sa1_walk_avg['SA1 Code'] = sa1_walk_avg['SA1 Code'].apply(str)\r\n",
    "sa1_walk_avg.set_index('SA1 Code',inplace=True) "
   ],
   "outputs": [],
   "metadata": {
    "collapsed": false
   }
  },
  {
   "cell_type": "code",
   "execution_count": 26,
   "source": [
    "sa1_walk_avg = sa1_walk_avg.reindex(sa1_codes,fill_value=None).reset_index()\r\n",
    "sa1_walk_avg.columns = ['SA1 Code','Walkability Score']"
   ],
   "outputs": [],
   "metadata": {
    "collapsed": false
   }
  },
  {
   "cell_type": "code",
   "execution_count": null,
   "source": [
    "#While building walkability, all SA1s are not considered, due to no available walkability score (explained in the report)\r\n",
    "map_melb_sa1 = folium.Map(location=[-37.814,144.954],zoom_start = 13)\r\n",
    "\r\n",
    "map_melb_sa1.choropleth(\r\n",
    "    geo_path='data/inner_melb_sa1.json',\r\n",
    "    data = sa1_walk_avg,\r\n",
    "    key_on= 'properties.sa1_code',\r\n",
    "    columns=['SA1 Code', 'Walkability Score'],\r\n",
    "    fill_color='YlGnBu',\r\n",
    "    line_weight=2,\r\n",
    "    #threshold_scale = [-4,0,4,9,12]\r\n",
    ")\r\n",
    "\r\n",
    "map_melb_sa1.create_map('choropleth-maps/sa1melbourne.html')\r\n",
    "map_melb_sa1"
   ],
   "outputs": [],
   "metadata": {
    "collapsed": false
   }
  },
  {
   "cell_type": "markdown",
   "source": [
    "In the SA1 breakdown, we see how the SA1s contribute to the overall score. The colors of SA1s and SA2 seem similar for relative geographic regions in both maps, which is how it should be.\n",
    "\n",
    "The missing SA1 regions are for parks, the Melbourne University (hi!), and/or industrial regions, which are technically not SA1s due to the minimum resident population requirement. \n",
    "\n",
    "And there we have it, all choropleths successfully built. There are folium methods to save them as html objects, and embed them in web applications."
   ],
   "metadata": {
    "collapsed": true
   }
  }
 ],
 "metadata": {
  "kernelspec": {
   "display_name": "Python 2",
   "language": "python",
   "name": "python2"
  },
  "language_info": {
   "codemirror_mode": {
    "name": "ipython",
    "version": 2
   },
   "file_extension": ".py",
   "mimetype": "text/x-python",
   "name": "python",
   "nbconvert_exporter": "python",
   "pygments_lexer": "ipython2",
   "version": "2.7.10"
  }
 },
 "nbformat": 4,
 "nbformat_minor": 2
}