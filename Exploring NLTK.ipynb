{
 "cells": [
  {
   "cell_type": "code",
   "execution_count": 1,
   "id": "0bf71176",
   "metadata": {},
   "outputs": [],
   "source": [
    "import nltk\n",
    "from nltk.tokenize import word_tokenize\n",
    "from nltk.help import upenn_tagset\n",
    "import spacy"
   ]
  },
  {
   "cell_type": "code",
   "execution_count": 2,
   "id": "121a5f65",
   "metadata": {},
   "outputs": [],
   "source": [
    "nlp = spacy.load('en_core_web_sm')"
   ]
  },
  {
   "cell_type": "code",
   "execution_count": 3,
   "id": "39356c9c",
   "metadata": {},
   "outputs": [],
   "source": [
    "sent = '''I am reading a book.\n",
    "            It is Python Machine Learning by Example,\n",
    "            Third Edition.'''\n",
    "            \n",
    "sent1 = '''The book written by Hayden Liu in 2018 was sold\n",
    "at $30 in America'''"
   ]
  },
  {
   "cell_type": "code",
   "execution_count": 4,
   "id": "6b2ba48b",
   "metadata": {},
   "outputs": [
    {
     "name": "stdout",
     "output_type": "stream",
     "text": [
      "['I', 'am', 'reading', 'a', 'book', '.', '\\n            ', 'It', 'is', 'Python', 'Machine', 'Learning', 'by', 'Example', ',', '\\n            ', 'Third', 'Edition', '.']\n"
     ]
    }
   ],
   "source": [
    "tokens2 = nlp(sent)\n",
    "print([token.text for token in tokens2])"
   ]
  },
  {
   "cell_type": "code",
   "execution_count": 5,
   "id": "932f057c",
   "metadata": {},
   "outputs": [
    {
     "name": "stdout",
     "output_type": "stream",
     "text": [
      "[('I', 'PRP'), ('am', 'VBP'), ('reading', 'VBG'), ('a', 'DT'), ('book', 'NN'), ('.', '.'), ('It', 'PRP'), ('is', 'VBZ'), ('Python', 'NNP'), ('Machine', 'NNP'), ('Learning', 'NNP'), ('by', 'IN'), ('Example', 'NNP'), (',', ','), ('Third', 'NNP'), ('Edition', 'NNP'), ('.', '.')]\n"
     ]
    }
   ],
   "source": [
    "tokens = word_tokenize(sent)\n",
    "print(nltk.pos_tag(tokens))\n"
   ]
  },
  {
   "cell_type": "code",
   "execution_count": 6,
   "id": "3ac6ea1f",
   "metadata": {},
   "outputs": [
    {
     "name": "stdout",
     "output_type": "stream",
     "text": [
      "PRP: pronoun, personal\n",
      "    hers herself him himself hisself it itself me myself one oneself ours\n",
      "    ourselves ownself self she thee theirs them themselves they thou thy us\n",
      "VBP: verb, present tense, not 3rd person singular\n",
      "    predominate wrap resort sue twist spill cure lengthen brush terminate\n",
      "    appear tend stray glisten obtain comprise detest tease attract\n",
      "    emphasize mold postpone sever return wag ...\n"
     ]
    }
   ],
   "source": [
    "nltk.help.upenn_tagset('PRP')\n",
    "nltk.help.upenn_tagset('VBP')"
   ]
  },
  {
   "cell_type": "code",
   "execution_count": 7,
   "id": "e6e62fd4",
   "metadata": {},
   "outputs": [],
   "source": [
    "#print([(token.text, token.pos_) for token in tokens2])\n",
    "tokens3 = nlp(sent1)\n"
   ]
  },
  {
   "cell_type": "code",
   "execution_count": 8,
   "id": "31ce5c7d",
   "metadata": {},
   "outputs": [
    {
     "name": "stdout",
     "output_type": "stream",
     "text": [
      "[('Hayden Liu', 380), ('2018', 391), ('30', 394), ('America', 384)]\n"
     ]
    }
   ],
   "source": [
    "print([(token_ent.text, token_ent.label)for token_ent in tokens3.ents])"
   ]
  },
  {
   "cell_type": "markdown",
   "id": "464bd199",
   "metadata": {},
   "source": [
    "##### Stemming and Lemmatization"
   ]
  },
  {
   "cell_type": "code",
   "execution_count": 10,
   "id": "fbdb68d8",
   "metadata": {},
   "outputs": [],
   "source": [
    "from nltk.stem.porter import PorterStemmer\n",
    "porter = PorterStemmer()"
   ]
  },
  {
   "cell_type": "code",
   "execution_count": 11,
   "id": "1d8318b1",
   "metadata": {},
   "outputs": [
    {
     "data": {
      "text/plain": [
       "'machin'"
      ]
     },
     "execution_count": 11,
     "metadata": {},
     "output_type": "execute_result"
    }
   ],
   "source": [
    "porter.stem('machines')"
   ]
  },
  {
   "cell_type": "code",
   "execution_count": 13,
   "id": "4033b309",
   "metadata": {},
   "outputs": [
    {
     "data": {
      "text/plain": [
       "'learn'"
      ]
     },
     "execution_count": 13,
     "metadata": {},
     "output_type": "execute_result"
    }
   ],
   "source": [
    "porter.stem('learning')"
   ]
  },
  {
   "cell_type": "code",
   "execution_count": 15,
   "id": "b1f3a78a",
   "metadata": {},
   "outputs": [],
   "source": [
    "from nltk.stem import WordNetLemmatizer\n",
    "lemmatizer = WordNetLemmatizer()"
   ]
  },
  {
   "cell_type": "code",
   "execution_count": 16,
   "id": "7170ad2f",
   "metadata": {},
   "outputs": [
    {
     "data": {
      "text/plain": [
       "'machine'"
      ]
     },
     "execution_count": 16,
     "metadata": {},
     "output_type": "execute_result"
    }
   ],
   "source": [
    "lemmatizer.lemmatize('machines')"
   ]
  },
  {
   "cell_type": "code",
   "execution_count": 17,
   "id": "a6893968",
   "metadata": {},
   "outputs": [
    {
     "data": {
      "text/plain": [
       "'learning'"
      ]
     },
     "execution_count": 17,
     "metadata": {},
     "output_type": "execute_result"
    }
   ],
   "source": [
    "lemmatizer.lemmatize('learning')"
   ]
  },
  {
   "cell_type": "code",
   "execution_count": null,
   "id": "74eb4bd6",
   "metadata": {},
   "outputs": [],
   "source": []
  }
 ],
 "metadata": {
  "kernelspec": {
   "display_name": "Python 3",
   "language": "python",
   "name": "python3"
  },
  "language_info": {
   "codemirror_mode": {
    "name": "ipython",
    "version": 3
   },
   "file_extension": ".py",
   "mimetype": "text/x-python",
   "name": "python",
   "nbconvert_exporter": "python",
   "pygments_lexer": "ipython3",
   "version": "3.8.8"
  }
 },
 "nbformat": 4,
 "nbformat_minor": 5
}
