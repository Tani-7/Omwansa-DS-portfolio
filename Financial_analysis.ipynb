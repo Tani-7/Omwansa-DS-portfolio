{
  "nbformat": 4,
  "nbformat_minor": 0,
  "metadata": {
    "colab": {
      "name": "Financial analysis.ipynb",
      "provenance": [],
      "authorship_tag": "ABX9TyMbmBj7QZ1z6Cvz/qiHndOS",
      "include_colab_link": true
    },
    "kernelspec": {
      "name": "python3",
      "display_name": "Python 3"
    },
    "language_info": {
      "name": "python"
    }
  },
  "cells": [
    {
      "cell_type": "markdown",
      "metadata": {
        "id": "view-in-github",
        "colab_type": "text"
      },
      "source": [
        "<a href=\"https://colab.research.google.com/github/Tani-7/Omwansa-DS-portfolio/blob/Tani-7-ML/Financial_analysis.ipynb\" target=\"_parent\"><img src=\"https://colab.research.google.com/assets/colab-badge.svg\" alt=\"Open In Colab\"/></a>"
      ]
    },
    {
      "cell_type": "code",
      "metadata": {
        "colab": {
          "base_uri": "https://localhost:8080/",
          "height": 581
        },
        "id": "CzM_sJH7-zyH",
        "outputId": "98cd0fb7-fcc1-4f6f-f725-81cd34184f4b"
      },
      "source": [
        "#pip install sec_edgar_downloader\n",
        "%pip install yfinance"
      ],
      "execution_count": 17,
      "outputs": [
        {
          "output_type": "stream",
          "name": "stdout",
          "text": [
            "Collecting yfinance\n",
            "  Downloading yfinance-0.1.63.tar.gz (26 kB)\n",
            "Requirement already satisfied: pandas>=0.24 in /usr/local/lib/python3.7/dist-packages (from yfinance) (1.1.5)\n",
            "Requirement already satisfied: numpy>=1.15 in /usr/local/lib/python3.7/dist-packages (from yfinance) (1.19.5)\n",
            "Requirement already satisfied: requests>=2.20 in /usr/local/lib/python3.7/dist-packages (from yfinance) (2.23.0)\n",
            "Requirement already satisfied: multitasking>=0.0.7 in /usr/local/lib/python3.7/dist-packages (from yfinance) (0.0.9)\n",
            "Collecting lxml>=4.5.1\n",
            "  Downloading lxml-4.6.3-cp37-cp37m-manylinux2014_x86_64.whl (6.3 MB)\n",
            "\u001b[K     |████████████████████████████████| 6.3 MB 4.9 MB/s \n",
            "\u001b[?25hRequirement already satisfied: python-dateutil>=2.7.3 in /usr/local/lib/python3.7/dist-packages (from pandas>=0.24->yfinance) (2.8.2)\n",
            "Requirement already satisfied: pytz>=2017.2 in /usr/local/lib/python3.7/dist-packages (from pandas>=0.24->yfinance) (2018.9)\n",
            "Requirement already satisfied: six>=1.5 in /usr/local/lib/python3.7/dist-packages (from python-dateutil>=2.7.3->pandas>=0.24->yfinance) (1.15.0)\n",
            "Requirement already satisfied: idna<3,>=2.5 in /usr/local/lib/python3.7/dist-packages (from requests>=2.20->yfinance) (2.10)\n",
            "Requirement already satisfied: chardet<4,>=3.0.2 in /usr/local/lib/python3.7/dist-packages (from requests>=2.20->yfinance) (3.0.4)\n",
            "Requirement already satisfied: certifi>=2017.4.17 in /usr/local/lib/python3.7/dist-packages (from requests>=2.20->yfinance) (2021.5.30)\n",
            "Requirement already satisfied: urllib3!=1.25.0,!=1.25.1,<1.26,>=1.21.1 in /usr/local/lib/python3.7/dist-packages (from requests>=2.20->yfinance) (1.24.3)\n",
            "Building wheels for collected packages: yfinance\n",
            "  Building wheel for yfinance (setup.py) ... \u001b[?25l\u001b[?25hdone\n",
            "  Created wheel for yfinance: filename=yfinance-0.1.63-py2.py3-none-any.whl size=23918 sha256=0d15f4466e48774181617f12b3e074a91d0027c8a12f7e583911faca5749a2b1\n",
            "  Stored in directory: /root/.cache/pip/wheels/fe/87/8b/7ec24486e001d3926537f5f7801f57a74d181be25b11157983\n",
            "Successfully built yfinance\n",
            "Installing collected packages: lxml, yfinance\n",
            "  Attempting uninstall: lxml\n",
            "    Found existing installation: lxml 4.2.6\n",
            "    Uninstalling lxml-4.2.6:\n",
            "      Successfully uninstalled lxml-4.2.6\n",
            "Successfully installed lxml-4.6.3 yfinance-0.1.63\n"
          ]
        },
        {
          "output_type": "display_data",
          "data": {
            "application/vnd.colab-display-data+json": {
              "pip_warning": {
                "packages": [
                  "lxml"
                ]
              }
            }
          },
          "metadata": {}
        }
      ]
    },
    {
      "cell_type": "code",
      "metadata": {
        "id": "Qr63RTNiLvIS"
      },
      "source": [
        "from google.colab import drive\n",
        "import os\n",
        "import yfinance as yf\n",
        "from sec_edgar_downloader import Downloader\n",
        "import glob\n",
        "import pandas as pd\n",
        "import numpy as np\n",
        "import datetime as datetime\n",
        "import matplotlib.pyplot as plt \n",
        "\n",
        "%matplotlib inline"
      ],
      "execution_count": 2,
      "outputs": []
    },
    {
      "cell_type": "markdown",
      "metadata": {
        "id": "uiFJfMW__EvM"
      },
      "source": [
        "Files and Paths \n"
      ]
    },
    {
      "cell_type": "code",
      "metadata": {
        "colab": {
          "base_uri": "https://localhost:8080/"
        },
        "id": "4csFOF1i99_P",
        "outputId": "76ae23ba-90ef-4981-8546-34b4c14111fa"
      },
      "source": [
        "drive.mount('/content/drive')"
      ],
      "execution_count": 3,
      "outputs": [
        {
          "output_type": "stream",
          "name": "stdout",
          "text": [
            "Drive already mounted at /content/drive; to attempt to forcibly remount, call drive.mount(\"/content/drive\", force_remount=True).\n"
          ]
        }
      ]
    },
    {
      "cell_type": "code",
      "metadata": {
        "id": "7SOBJyb0RXeJ"
      },
      "source": [
        "with open('/content/drive/MyDrive/Financial Analysis/companies.txt') as f:\n",
        "    companies = f.readlines()"
      ],
      "execution_count": 4,
      "outputs": []
    },
    {
      "cell_type": "code",
      "metadata": {
        "id": "zllVflH4RlP5"
      },
      "source": [
        "date_after = \"2000-01-01\""
      ],
      "execution_count": 5,
      "outputs": []
    },
    {
      "cell_type": "code",
      "metadata": {
        "colab": {
          "base_uri": "https://localhost:8080/",
          "height": 632
        },
        "id": "nKS0widSRrZp",
        "outputId": "e67ccff5-a579-4317-9d22-69f996bc232d"
      },
      "source": [
        "for company in companies:\n",
        "\n",
        "    # Check if previously downloaded reports and skips if so\n",
        "    check_path = glob.glob(f'sec-edgar-filings/{company}/*/*/*')\n",
        "    if check_path != []:\n",
        "        print(f\"{company} 8-K & 10-K reports downloaded previously\")\n",
        "        continue\n",
        "\n",
        "    # Initialize a downloader instance. \n",
        "    dl = Downloader()\n",
        "\n",
        "    # Get all 8-K filings\n",
        "    print(f\"Downlading 8-K reports for {company}...\") \n",
        "    dl.get(\"8-K\", company, after=date_after)\n",
        "\n",
        "    # Get all 10-K filings\n",
        "    print(f\"Downlading 10-K reports for {company}...\") \n",
        "    dl.get(\"10-K\", company, after=date_after)"
      ],
      "execution_count": 13,
      "outputs": [
        {
          "output_type": "stream",
          "name": "stdout",
          "text": [
            "Downlading 8-K reports for JPM\n",
            "...\n",
            "Skipping filing detail download for '0000019617-01-000004' due to network error: 404 Client Error: Not Found for url: https://www.sec.gov/Archives/edgar/data/0000019617/000001961701000004/0001.txt.\n",
            "Skipping filing detail download for '0000019617-00-000167' due to network error: 404 Client Error: Not Found for url: https://www.sec.gov/Archives/edgar/data/0000019617/000001961700000167/0001.txt.\n",
            "Skipping filing detail download for '0000019617-00-000159' due to network error: 404 Client Error: Not Found for url: https://www.sec.gov/Archives/edgar/data/0000019617/000001961700000159/0001.txt.\n",
            "Skipping filing detail download for '0001007581-00-000019' due to network error: 404 Client Error: Not Found for url: https://www.sec.gov/Archives/edgar/data/0001007581/000100758100000019/0001.txt.\n",
            "Skipping filing detail download for '0000019617-00-000132' due to network error: 404 Client Error: Not Found for url: https://www.sec.gov/Archives/edgar/data/0000019617/000001961700000132/0001.txt.\n",
            "Skipping filing detail download for '0000019617-00-000130' due to network error: 404 Client Error: Not Found for url: https://www.sec.gov/Archives/edgar/data/0000019617/000001961700000130/0001.txt.\n",
            "Downlading 10-K reports for JPM\n",
            "...\n",
            "Skipping filing detail download for '0001007581-01-000003' due to network error: 404 Client Error: Not Found for url: https://www.sec.gov/Archives/edgar/data/0001007581/000100758101000003/0001.txt.\n",
            "Downlading 8-K reports for MS\n",
            "...\n"
          ]
        },
        {
          "output_type": "error",
          "ename": "KeyboardInterrupt",
          "evalue": "ignored",
          "traceback": [
            "\u001b[0;31m---------------------------------------------------------------------------\u001b[0m",
            "\u001b[0;31mKeyboardInterrupt\u001b[0m                         Traceback (most recent call last)",
            "\u001b[0;32m<ipython-input-13-10ebe8298682>\u001b[0m in \u001b[0;36m<module>\u001b[0;34m()\u001b[0m\n\u001b[1;32m     12\u001b[0m     \u001b[0;31m# Get all 8-K filings\u001b[0m\u001b[0;34m\u001b[0m\u001b[0;34m\u001b[0m\u001b[0;34m\u001b[0m\u001b[0m\n\u001b[1;32m     13\u001b[0m     \u001b[0mprint\u001b[0m\u001b[0;34m(\u001b[0m\u001b[0;34mf\"Downlading 8-K reports for {company}...\"\u001b[0m\u001b[0;34m)\u001b[0m\u001b[0;34m\u001b[0m\u001b[0;34m\u001b[0m\u001b[0m\n\u001b[0;32m---> 14\u001b[0;31m     \u001b[0mdl\u001b[0m\u001b[0;34m.\u001b[0m\u001b[0mget\u001b[0m\u001b[0;34m(\u001b[0m\u001b[0;34m\"8-K\"\u001b[0m\u001b[0;34m,\u001b[0m \u001b[0mcompany\u001b[0m\u001b[0;34m,\u001b[0m \u001b[0mafter\u001b[0m\u001b[0;34m=\u001b[0m\u001b[0mdate_after\u001b[0m\u001b[0;34m)\u001b[0m\u001b[0;34m\u001b[0m\u001b[0;34m\u001b[0m\u001b[0m\n\u001b[0m\u001b[1;32m     15\u001b[0m \u001b[0;34m\u001b[0m\u001b[0m\n\u001b[1;32m     16\u001b[0m     \u001b[0;31m# Get all 10-K filings\u001b[0m\u001b[0;34m\u001b[0m\u001b[0;34m\u001b[0m\u001b[0;34m\u001b[0m\u001b[0m\n",
            "\u001b[0;32m/usr/local/lib/python3.7/dist-packages/sec_edgar_downloader/Downloader.py\u001b[0m in \u001b[0;36mget\u001b[0;34m(self, filing, ticker_or_cik, amount, after, before, include_amends, download_details, query)\u001b[0m\n\u001b[1;32m    186\u001b[0m             \u001b[0mfiling\u001b[0m\u001b[0;34m,\u001b[0m\u001b[0;34m\u001b[0m\u001b[0;34m\u001b[0m\u001b[0m\n\u001b[1;32m    187\u001b[0m             \u001b[0mfilings_to_fetch\u001b[0m\u001b[0;34m,\u001b[0m\u001b[0;34m\u001b[0m\u001b[0;34m\u001b[0m\u001b[0m\n\u001b[0;32m--> 188\u001b[0;31m             \u001b[0mdownload_details\u001b[0m\u001b[0;34m,\u001b[0m\u001b[0;34m\u001b[0m\u001b[0;34m\u001b[0m\u001b[0m\n\u001b[0m\u001b[1;32m    189\u001b[0m         )\n\u001b[1;32m    190\u001b[0m \u001b[0;34m\u001b[0m\u001b[0m\n",
            "\u001b[0;32m/usr/local/lib/python3.7/dist-packages/sec_edgar_downloader/_utils.py\u001b[0m in \u001b[0;36mdownload_filings\u001b[0;34m(download_folder, ticker_or_cik, filing_type, filings_to_fetch, include_filing_details)\u001b[0m\n\u001b[1;32m    309\u001b[0m                         \u001b[0mfiling\u001b[0m\u001b[0;34m.\u001b[0m\u001b[0mfiling_details_url\u001b[0m\u001b[0;34m,\u001b[0m\u001b[0;34m\u001b[0m\u001b[0;34m\u001b[0m\u001b[0m\n\u001b[1;32m    310\u001b[0m                         \u001b[0mfiling\u001b[0m\u001b[0;34m.\u001b[0m\u001b[0mfiling_details_filename\u001b[0m\u001b[0;34m,\u001b[0m\u001b[0;34m\u001b[0m\u001b[0;34m\u001b[0m\u001b[0m\n\u001b[0;32m--> 311\u001b[0;31m                         \u001b[0mresolve_urls\u001b[0m\u001b[0;34m=\u001b[0m\u001b[0;32mTrue\u001b[0m\u001b[0;34m,\u001b[0m\u001b[0;34m\u001b[0m\u001b[0;34m\u001b[0m\u001b[0m\n\u001b[0m\u001b[1;32m    312\u001b[0m                     )\n\u001b[1;32m    313\u001b[0m                 \u001b[0;32mexcept\u001b[0m \u001b[0mrequests\u001b[0m\u001b[0;34m.\u001b[0m\u001b[0mexceptions\u001b[0m\u001b[0;34m.\u001b[0m\u001b[0mHTTPError\u001b[0m \u001b[0;32mas\u001b[0m \u001b[0me\u001b[0m\u001b[0;34m:\u001b[0m  \u001b[0;31m# pragma: no cover\u001b[0m\u001b[0;34m\u001b[0m\u001b[0;34m\u001b[0m\u001b[0m\n",
            "\u001b[0;32m/usr/local/lib/python3.7/dist-packages/sec_edgar_downloader/_utils.py\u001b[0m in \u001b[0;36mdownload_and_save_filing\u001b[0;34m(client, download_folder, ticker_or_cik, accession_number, filing_type, download_url, save_filename, resolve_urls)\u001b[0m\n\u001b[1;32m    268\u001b[0m \u001b[0;34m\u001b[0m\u001b[0m\n\u001b[1;32m    269\u001b[0m     \u001b[0;31m# Prevent rate limiting\u001b[0m\u001b[0;34m\u001b[0m\u001b[0;34m\u001b[0m\u001b[0;34m\u001b[0m\u001b[0m\n\u001b[0;32m--> 270\u001b[0;31m     \u001b[0mtime\u001b[0m\u001b[0;34m.\u001b[0m\u001b[0msleep\u001b[0m\u001b[0;34m(\u001b[0m\u001b[0mSEC_EDGAR_RATE_LIMIT_SLEEP_INTERVAL\u001b[0m\u001b[0;34m)\u001b[0m\u001b[0;34m\u001b[0m\u001b[0;34m\u001b[0m\u001b[0m\n\u001b[0m\u001b[1;32m    271\u001b[0m \u001b[0;34m\u001b[0m\u001b[0m\n\u001b[1;32m    272\u001b[0m \u001b[0;34m\u001b[0m\u001b[0m\n",
            "\u001b[0;31mKeyboardInterrupt\u001b[0m: "
          ]
        }
      ]
    },
    {
      "cell_type": "code",
      "metadata": {
        "id": "yJEVwE_xS0Cj"
      },
      "source": [
        "Text Analysis on  downloaded statements"
      ],
      "execution_count": null,
      "outputs": []
    },
    {
      "cell_type": "markdown",
      "metadata": {
        "id": "I4gDQse1Zm9j"
      },
      "source": [
        "### Text Analysis on  downloaded statements\n",
        "\n",
        "---\n",
        "\n"
      ]
    },
    {
      "cell_type": "code",
      "metadata": {
        "id": "e4QeWITyZ424"
      },
      "source": [
        "strings = [\"cybersecurity\", \"cyber security\", \"cyber-security\", \"information security\", \"data security\", \"data leak\", \"data breach\"]\n",
        "filings = ['8-K', '10-K']\n",
        "\n",
        "df = pd.DataFrame(columns=['Company', 'Date', 'Filing', 'Word_count', *strings, 'Path'])\n",
        "\n",
        "for company in companies:\n",
        "\n",
        "    for filing in filings:\n",
        "\n",
        "        paths = glob.glob(f'sec-edgar-filings/{company}/{filing}/*/*.txt')\n",
        "\n",
        "        for path in paths:\n",
        "            file = open(path, \"r\")\n",
        "\n",
        "            # get date of file based on text at beginning of line\n",
        "            for line in file:\n",
        "                if \"<SEC-DOCUMENT>\" in line:\n",
        "                    date = line[-9:-1]\n",
        "                    break\n",
        "            \n",
        "            # counts if line contains any of the contents of strings\n",
        "            # for line in file:\n",
        "            #   if any(string in line.lower() for string in strings):\n",
        "            #       string_count += 1\n",
        "\n",
        "            total_count = 0\n",
        "            word_count = {}\n",
        "            for string in strings:\n",
        "                word_count[string] = 0 \n",
        "            for line in file:\n",
        "                for string in strings:\n",
        "                    word_count[string] += line.count(string)\n",
        "                    total_count += line.count(string)\n",
        "\n",
        "            word_counts = list(word_count.values())\n",
        "            df.loc[len(df.index)] = [company, date, filing, total_count, *word_counts, path]\n",
        "            file.close()\n",
        "\n",
        "# convert date to datetime and sort in order\n",
        "df['Date'] = pd.to_datetime(df['Date'],format='%Y%m%d')\n",
        "df = df.sort_values(by='Date')\n",
        "\n",
        "# Creates columns for 8-K & 10-K Counts\n",
        "for filing in filings:  \n",
        "    df[filing] = df.loc[(df['Filing'] == filing)]['Word_count']"
      ],
      "execution_count": null,
      "outputs": []
    }
  ]
}